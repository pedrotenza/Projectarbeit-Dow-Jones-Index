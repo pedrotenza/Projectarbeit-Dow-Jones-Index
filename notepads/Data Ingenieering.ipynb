{
 "cells": [
  {
   "cell_type": "code",
   "execution_count": 21,
   "metadata": {},
   "outputs": [],
   "source": [
    "import pandas as pd\n",
    "\n",
    "# Read the CSV file\n",
    "data = pd.read_csv(\"../data/data/aapl_raw_data.csv\")\n",
    "data.shape\n",
    "data.tail(1)\n",
    "\n",
    "data = data.iloc[:10747]\n",
    "\n",
    "data.tail(1)\n",
    "\n",
    "\n",
    "data.isnull().sum()\n",
    "data=data.fillna(0)  # Filling null values with zero\n",
    "data.isnull().sum()\n",
    "\n",
    "\n",
    "\n",
    "#data[\"date\"] = data[\"date\"].astype(float)\n",
    "data[\"open\"] = data[\"open\"].astype(float)\n",
    "data[\"high\"] = data[\"high\"].astype(float)\n",
    "data[\"low\"] = data[\"low\"].astype(float)\n",
    "data[\"volume\"] = data[\"volume\"].astype(float)\n",
    "data[\"adjusted_close\"] = data[\"adjusted_close\"].astype(float)\n",
    "data[\"change_percent\"] = data[\"change_percent\"].astype(float)\n",
    "data[\"avg_vol_20d\"] = data[\"avg_vol_20d\"].astype(float)\n",
    "\n",
    "data[\"close\"] = data[\"close\"].astype(float)\n",
    "\n",
    "#print(data.tail(1))"
   ]
  },
  {
   "cell_type": "markdown",
   "metadata": {},
   "source": [
    "Correlation Matrix"
   ]
  },
  {
   "cell_type": "code",
   "execution_count": 22,
   "metadata": {},
   "outputs": [
    {
     "name": "stdout",
     "output_type": "stream",
     "text": [
      "                    open      high       low     close    volume  \\\n",
      "open            1.000000  0.999917  0.999891  0.999804  0.253171   \n",
      "high            0.999917  1.000000  0.999865  0.999909  0.254680   \n",
      "low             0.999891  0.999865  1.000000  0.999903  0.251314   \n",
      "close           0.999804  0.999909  0.999903  1.000000  0.253048   \n",
      "volume          0.253171  0.254680  0.251314  0.253048  1.000000   \n",
      "adjusted_close  0.275134  0.275402  0.275786  0.275804  0.758060   \n",
      "change_percent  0.003953  0.008392  0.008999  0.013808 -0.013971   \n",
      "avg_vol_20d     0.157960  0.159502  0.155150  0.157305  0.053430   \n",
      "\n",
      "                adjusted_close  change_percent  avg_vol_20d  \n",
      "open                  0.275134        0.003953     0.157960  \n",
      "high                  0.275402        0.008392     0.159502  \n",
      "low                   0.275786        0.008999     0.155150  \n",
      "close                 0.275804        0.013808     0.157305  \n",
      "volume                0.758060       -0.013971     0.053430  \n",
      "adjusted_close        1.000000        0.004764    -0.285237  \n",
      "change_percent        0.004764        1.000000     0.003099  \n",
      "avg_vol_20d          -0.285237        0.003099     1.000000  \n"
     ]
    }
   ],
   "source": [
    "correlation_matrix = data.corr()\n",
    "print(correlation_matrix)\n"
   ]
  },
  {
   "cell_type": "markdown",
   "metadata": {},
   "source": [
    "Compute the Variance Inflation Factor (VIF)"
   ]
  },
  {
   "cell_type": "code",
   "execution_count": 32,
   "metadata": {},
   "outputs": [
    {
     "name": "stdout",
     "output_type": "stream",
     "text": [
      "          feature           VIF\n",
      "0           const      3.292748\n",
      "1            open  10091.202107\n",
      "2            high   7715.072613\n",
      "3             low   6065.216292\n",
      "4          volume      3.101404\n",
      "5  adjusted_close      3.424823\n",
      "6  change_percent      1.223868\n",
      "7     avg_vol_20d      1.462513\n"
     ]
    }
   ],
   "source": [
    "import pandas as pd\n",
    "import numpy as np\n",
    "from statsmodels.stats.outliers_influence import variance_inflation_factor\n",
    "from statsmodels.tools.tools import add_constant\n",
    "\n",
    "# Read the CSV file\n",
    "data = pd.read_csv(\"../data/data/aapl_raw_data.csv\")\n",
    "\n",
    "# Limit the dataset to the first 10747 rows\n",
    "data = data.iloc[:10747]\n",
    "\n",
    "# Fill null values with zero\n",
    "data = data.fillna(0)\n",
    "\n",
    "# Convert columns to float\n",
    "data[\"open\"] = data[\"open\"].astype(float)\n",
    "data[\"high\"] = data[\"high\"].astype(float)\n",
    "data[\"low\"] = data[\"low\"].astype(float)\n",
    "data[\"volume\"] = data[\"volume\"].astype(float)\n",
    "data[\"adjusted_close\"] = data[\"adjusted_close\"].astype(float)\n",
    "data[\"change_percent\"] = data[\"change_percent\"].astype(float)\n",
    "data[\"avg_vol_20d\"] = data[\"avg_vol_20d\"].astype(float)\n",
    "data[\"close\"] = data[\"close\"].astype(float)\n",
    "\n",
    "# Prepare the data for VIF by adding a constant term\n",
    "X = add_constant(data[['open', 'high', 'low', 'volume', 'adjusted_close', 'change_percent', 'avg_vol_20d']])\n",
    "\n",
    "# Compute VIF\n",
    "vif_data = pd.DataFrame()\n",
    "vif_data[\"feature\"] = X.columns\n",
    "vif_data[\"VIF\"] = [variance_inflation_factor(X.values, i) for i in range(X.shape[1])]\n",
    "\n",
    "print(vif_data)\n"
   ]
  },
  {
   "cell_type": "markdown",
   "metadata": {},
   "source": [
    "Variables with a VIF value close to 1 are considered to be not multicollinear.\n",
    "Variables with VIF values greater than 5 or 10 (depending on the literature or guidelines you refer to) are typically considered to have multicollinearity issues.\n",
    "\n",
    "removing or combining the highly multicollinear variables (open, high, and low) to address the multicollinearity issue\n",
    "\n"
   ]
  },
  {
   "cell_type": "code",
   "execution_count": 34,
   "metadata": {},
   "outputs": [
    {
     "name": "stdout",
     "output_type": "stream",
     "text": [
      "                   close    volume  adjusted_close  change_percent  \\\n",
      "close           1.000000  0.253048        0.275804        0.013808   \n",
      "volume          0.253048  1.000000        0.758060       -0.013971   \n",
      "adjusted_close  0.275804  0.758060        1.000000        0.004764   \n",
      "change_percent  0.013808 -0.013971        0.004764        1.000000   \n",
      "avg_vol_20d     0.157305  0.053430       -0.285237        0.003099   \n",
      "\n",
      "                avg_vol_20d  \n",
      "close              0.157305  \n",
      "volume             0.053430  \n",
      "adjusted_close    -0.285237  \n",
      "change_percent     0.003099  \n",
      "avg_vol_20d        1.000000  \n"
     ]
    }
   ],
   "source": [
    "data2 = data.drop(['high', 'low', 'open'], axis=1)\n",
    "correlation_matrix = data2.corr()\n",
    "print(correlation_matrix)"
   ]
  }
 ],
 "metadata": {
  "kernelspec": {
   "display_name": ".venv",
   "language": "python",
   "name": "python3"
  },
  "language_info": {
   "codemirror_mode": {
    "name": "ipython",
    "version": 3
   },
   "file_extension": ".py",
   "mimetype": "text/x-python",
   "name": "python",
   "nbconvert_exporter": "python",
   "pygments_lexer": "ipython3",
   "version": "3.9.13"
  }
 },
 "nbformat": 4,
 "nbformat_minor": 2
}
