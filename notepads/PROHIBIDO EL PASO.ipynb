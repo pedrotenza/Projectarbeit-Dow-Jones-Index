{
 "cells": [
  {
   "cell_type": "markdown",
   "metadata": {},
   "source": [
    "1. Set the enviroment"
   ]
  },
  {
   "cell_type": "code",
   "execution_count": 5,
   "metadata": {},
   "outputs": [],
   "source": [
    "#pip install tensorflow opencv-python\n"
   ]
  },
  {
   "cell_type": "markdown",
   "metadata": {},
   "source": [
    "2. Create the SRCNN Model"
   ]
  },
  {
   "cell_type": "code",
   "execution_count": 6,
   "metadata": {},
   "outputs": [
    {
     "name": "stdout",
     "output_type": "stream",
     "text": [
      "Pre-trained model not found. Make sure to train your model first.\n"
     ]
    }
   ],
   "source": [
    "import numpy as np\n",
    "import cv2\n",
    "from tensorflow import keras\n",
    "from tensorflow.keras import layers, models\n",
    "\n",
    "# Build the SRCNN model\n",
    "def build_srcnn():\n",
    "    model = models.Sequential()\n",
    "    model.add(layers.Conv2D(64, (9, 9), activation='relu', padding='same', input_shape=(33, 33, 1)))\n",
    "    model.add(layers.Conv2D(32, (1, 1), activation='relu', padding='same'))\n",
    "    model.add(layers.Conv2D(1, (5, 5), padding='same'))\n",
    "    model.compile(optimizer='adam', loss='mean_squared_error')\n",
    "    return model\n",
    "\n",
    "# Load the pre-trained SRCNN model (if available)\n",
    "try:\n",
    "    model = keras.models.load_model('srcnn_model.h5')\n",
    "except Exception as e:\n",
    "    print(\"Pre-trained model not found. Make sure to train your model first.\")\n"
   ]
  },
  {
   "cell_type": "markdown",
   "metadata": {},
   "source": [
    "3. Improve the Resolution of the Traffic Signal Image"
   ]
  },
  {
   "cell_type": "code",
   "execution_count": 7,
   "metadata": {},
   "outputs": [
    {
     "ename": "NameError",
     "evalue": "name 'model' is not defined",
     "output_type": "error",
     "traceback": [
      "\u001b[1;31m---------------------------------------------------------------------------\u001b[0m",
      "\u001b[1;31mNameError\u001b[0m                                 Traceback (most recent call last)",
      "Cell \u001b[1;32mIn[7], line 25\u001b[0m\n\u001b[0;32m     22\u001b[0m traffic_signal_image_path \u001b[38;5;241m=\u001b[39m \u001b[38;5;124m'\u001b[39m\u001b[38;5;124mpath_to_your_traffic_signal_image.jpg\u001b[39m\u001b[38;5;124m'\u001b[39m\n\u001b[0;32m     24\u001b[0m \u001b[38;5;66;03m# Use the trained model to improve resolution\u001b[39;00m\n\u001b[1;32m---> 25\u001b[0m high_res_image \u001b[38;5;241m=\u001b[39m improve_resolution(traffic_signal_image_path, \u001b[43mmodel\u001b[49m)\n\u001b[0;32m     27\u001b[0m \u001b[38;5;66;03m# Save and display the improved image\u001b[39;00m\n\u001b[0;32m     28\u001b[0m cv2\u001b[38;5;241m.\u001b[39mimwrite(\u001b[38;5;124m'\u001b[39m\u001b[38;5;124mimproved_traffic_signal_image.jpg\u001b[39m\u001b[38;5;124m'\u001b[39m, high_res_image)\n",
      "\u001b[1;31mNameError\u001b[0m: name 'model' is not defined"
     ]
    }
   ],
   "source": [
    "# Function to improve the resolution of an image using the trained SRCNN model\n",
    "def improve_resolution(image_path, model):\n",
    "    img = cv2.imread(image_path)\n",
    "    img = cv2.cvtColor(img, cv2.COLOR_BGR2YUV)\n",
    "    y, u, v = cv2.split(img)\n",
    "\n",
    "    # Resize the Y channel to create a low-resolution version\n",
    "    low_res_y = cv2.resize(y, (y.shape[1] // 3, y.shape[0] // 3), interpolation=cv2.INTER_CUBIC) / 255.0\n",
    "    low_res_y = low_res_y.reshape((1, low_res_y.shape[0], low_res_y.shape[1], 1))\n",
    "\n",
    "    # Predict the high-resolution Y channel\n",
    "    high_res_y = model.predict(low_res_y)\n",
    "    high_res_y = high_res_y.reshape((high_res_y.shape[1], high_res_y.shape[2])) * 255.0\n",
    "\n",
    "    # Merge back to YUV and convert to BGR\n",
    "    high_res_img = cv2.merge([high_res_y, u, v])\n",
    "    high_res_img = cv2.cvtColor(high_res_img.astype(np.uint8), cv2.COLOR_YUV2BGR)\n",
    "\n",
    "    return high_res_img\n",
    "\n",
    "# Path to your traffic signal image\n",
    "traffic_signal_image_path = 'path_to_your_traffic_signal_image.jpg'\n",
    "\n",
    "# Use the trained model to improve resolution\n",
    "high_res_image = improve_resolution(traffic_signal_image_path, model)\n",
    "\n",
    "# Save and display the improved image\n",
    "cv2.imwrite('improved_traffic_signal_image.jpg', high_res_image)\n",
    "print(\"Improved image saved as 'improved_traffic_signal_image.jpg'.\")\n"
   ]
  }
 ],
 "metadata": {
  "kernelspec": {
   "display_name": ".venv",
   "language": "python",
   "name": "python3"
  },
  "language_info": {
   "codemirror_mode": {
    "name": "ipython",
    "version": 3
   },
   "file_extension": ".py",
   "mimetype": "text/x-python",
   "name": "python",
   "nbconvert_exporter": "python",
   "pygments_lexer": "ipython3",
   "version": "3.12.3"
  }
 },
 "nbformat": 4,
 "nbformat_minor": 2
}
